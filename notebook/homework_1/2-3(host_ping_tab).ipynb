{
 "cells": [
  {
   "cell_type": "code",
   "execution_count": 12,
   "metadata": {},
   "outputs": [
    {
     "name": "stdout",
     "output_type": "stream",
     "text": [
      "+---------------+---------------+\n",
      "|  Unreachable  |   Reachable   |\n",
      "+===============+===============+\n",
      "|   10.0.0.1    |               |\n",
      "+---------------+---------------+\n",
      "|               |   yandex.ru   |\n",
      "+---------------+---------------+\n",
      "|               | 192.168.137.1 |\n",
      "+---------------+---------------+\n"
     ]
    }
   ],
   "source": [
    "import subprocess\n",
    "import ipaddress\n",
    "from tabulate import tabulate\n",
    "\n",
    "\n",
    "def host_ping(address):\n",
    "    \n",
    "    try:\n",
    "        address = ipaddress.ip_address(address)\n",
    "    except ValueError:\n",
    "        pass\n",
    "    p = subprocess.Popen(f\"ping -c 1 {address}\", shell=True, stdout=subprocess.PIPE)\n",
    "    out = p.stdout.read()\n",
    "#     Получаем строку с результатами\n",
    "    res_str = out.decode().split('\\n')[-3]\n",
    "#     Строка с кол-вом отправленных пакетов\n",
    "    pack_trans_str = res_str.split(', ')[0]\n",
    "#     Строка с кол-вом полученных пакетов\n",
    "    pack_rec_str = res_str.split(', ')[1]\n",
    "    if pack_trans_str[0] == pack_rec_str[0]:\n",
    "        return True\n",
    "    else:\n",
    "        return False\n",
    "    \n",
    "\n",
    "def host_ping_range_tab(lst):\n",
    "    columns = ['Reachable', 'Unreachable']\n",
    "    res_dict = []\n",
    "    for address in lst:\n",
    "        if host_ping(address):\n",
    "            res_dict.append({columns[0]: address})\n",
    "        else:\n",
    "            res_dict.append({columns[1]: address})\n",
    "    print(tabulate(res_dict, headers='keys', tablefmt='grid', stralign=\"center\"))\n",
    "    \n",
    "\n",
    "host_ping_range_tab(['10.0.0.1', 'yandex.ru', '192.168.137.1'])"
   ]
  },
  {
   "cell_type": "code",
   "execution_count": null,
   "metadata": {},
   "outputs": [],
   "source": []
  }
 ],
 "metadata": {
  "kernelspec": {
   "display_name": "Python 3",
   "language": "python",
   "name": "python3"
  },
  "language_info": {
   "codemirror_mode": {
    "name": "ipython",
    "version": 3
   },
   "file_extension": ".py",
   "mimetype": "text/x-python",
   "name": "python",
   "nbconvert_exporter": "python",
   "pygments_lexer": "ipython3",
   "version": "3.6.8"
  }
 },
 "nbformat": 4,
 "nbformat_minor": 2
}
