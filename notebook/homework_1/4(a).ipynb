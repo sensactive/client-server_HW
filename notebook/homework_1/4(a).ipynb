{
 "cells": [
  {
   "cell_type": "code",
   "execution_count": 6,
   "metadata": {},
   "outputs": [
    {
     "name": "stdout",
     "output_type": "stream",
     "text": [
      "(b'Client was started\\nEnter action: Enter data: Client send data: privet\\nEnter action: [localhost] local: python client --mode w\\n', None)\n",
      "(b'[localhost] local: python client --mode r\\n', None)\n"
     ]
    }
   ],
   "source": [
    "import subprocess\n",
    "import sys\n",
    "\n",
    "# server = subprocess.Popen(\"fab server\", shell=True, stdout=subprocess.PIPE, cwd=\"/home/sensactive/PycharmProjects/client-server_HW\")\n",
    "# out_server = server.stdout.read()\n",
    "# print(out_server.decode())\n",
    "def run_client_app():\n",
    "    client_w = subprocess.Popen(\"fab client:w\", shell=True, stdin=subprocess.PIPE, stdout=subprocess.PIPE, cwd=\"/home/sensactive/PycharmProjects/client-server_HW\")\n",
    "    out_client_w = client_w.communicate('echo\\nprivet\\n'.encode())\n",
    "    print(out_client_w)\n",
    "\n",
    "    client_r = subprocess.Popen(\"fab client:r\", shell=True, stdin=subprocess.PIPE, stdout=subprocess.PIPE, cwd=\"/home/sensactive/PycharmProjects/client-server_HW\")\n",
    "    out_client_r = client_r.communicate()\n",
    "    print(out_client_r)\n",
    "\n",
    "\n",
    "def many_clients_app(cnt):\n",
    "    for i in range(cnt):\n",
    "        run_client_app()\n",
    "\n"
   ]
  },
  {
   "cell_type": "code",
   "execution_count": null,
   "metadata": {},
   "outputs": [],
   "source": []
  },
  {
   "cell_type": "code",
   "execution_count": null,
   "metadata": {},
   "outputs": [],
   "source": []
  },
  {
   "cell_type": "code",
   "execution_count": null,
   "metadata": {},
   "outputs": [],
   "source": []
  }
 ],
 "metadata": {
  "kernelspec": {
   "display_name": "Python 3",
   "language": "python",
   "name": "python3"
  },
  "language_info": {
   "codemirror_mode": {
    "name": "ipython",
    "version": 3
   },
   "file_extension": ".py",
   "mimetype": "text/x-python",
   "name": "python",
   "nbconvert_exporter": "python",
   "pygments_lexer": "ipython3",
   "version": "3.6.8"
  }
 },
 "nbformat": 4,
 "nbformat_minor": 2
}
