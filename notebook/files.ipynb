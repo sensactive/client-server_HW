{
 "cells": [
  {
   "cell_type": "code",
   "execution_count": 5,
   "metadata": {},
   "outputs": [],
   "source": [
    "file = open('data/read.txt')\n",
    "\n",
    "file.read()\n",
    "\n",
    "file.close()"
   ]
  },
  {
   "cell_type": "code",
   "execution_count": 7,
   "metadata": {},
   "outputs": [
    {
     "name": "stdout",
     "output_type": "stream",
     "text": [
      "Hello world!\n",
      "\n",
      "Hello world!\n",
      "\n",
      "Hello world!\n",
      "\n",
      "Hello world!\n",
      "\n",
      "Hello world!\n",
      "\n"
     ]
    }
   ],
   "source": [
    "file = open('data/read.txt')\n",
    "\n",
    "print(file.readline())\n",
    "print(file.readline())\n",
    "print(file.readline())\n",
    "print(file.readline())\n",
    "print(file.readline())\n",
    "\n",
    "file.close()"
   ]
  },
  {
   "cell_type": "code",
   "execution_count": 9,
   "metadata": {},
   "outputs": [
    {
     "name": "stdout",
     "output_type": "stream",
     "text": [
      "['Hello world!\\n', 'Hello world!\\n']\n",
      "['Hello world!\\n', 'Hello world!\\n', 'Hello world!\\n']\n",
      "['Hello world!\\n', 'Hello world!\\n', 'Hello world!\\n', 'Hello world!\\n']\n"
     ]
    }
   ],
   "source": [
    "file = open('data/read.txt')\n",
    "\n",
    "print(file.readlines(16))\n",
    "print(file.readlines(32))\n",
    "print(file.readlines(64))\n",
    "\n",
    "file.close()"
   ]
  },
  {
   "cell_type": "code",
   "execution_count": 11,
   "metadata": {},
   "outputs": [
    {
     "name": "stdout",
     "output_type": "stream",
     "text": [
      "Hello world!\n",
      "\n",
      "Hello world!\n",
      "\n",
      "Hello world!\n",
      "\n",
      "Hello world!\n",
      "\n",
      "Sample text!\n",
      "\n",
      "Hello world!\n",
      "\n",
      "Hello world!\n",
      "\n",
      "Hello world!\n",
      "\n",
      "Hello world!\n",
      "\n"
     ]
    }
   ],
   "source": [
    "with open('data/read.txt') as file:\n",
    "    for row in file:\n",
    "        print(row)"
   ]
  },
  {
   "cell_type": "code",
   "execution_count": 12,
   "metadata": {},
   "outputs": [],
   "source": [
    "with open('data/write.txt', 'w') as file:\n",
    "    pass"
   ]
  },
  {
   "cell_type": "code",
   "execution_count": 15,
   "metadata": {},
   "outputs": [],
   "source": [
    "with open('data/write.txt', 'w') as file:\n",
    "    file.write('Sample text!\\n')"
   ]
  },
  {
   "cell_type": "code",
   "execution_count": 16,
   "metadata": {},
   "outputs": [],
   "source": [
    "with open('data/write.txt', 'a') as file:\n",
    "    file.write('Hello world!\\n')"
   ]
  },
  {
   "cell_type": "code",
   "execution_count": 21,
   "metadata": {},
   "outputs": [
    {
     "name": "stdout",
     "output_type": "stream",
     "text": [
      "Hello world!\n",
      "Hello world!\n",
      "Hello world!\n",
      "Hello world!\n",
      "Sample text!\n",
      "Hello world!\n",
      "Hello world!\n",
      "Hello world!\n",
      "Hello world!\n",
      "ÐÐ°ÐºÐ°Ñ-ÑÐ¾ ÑÑÑÐ¾ÐºÐ°\n"
     ]
    }
   ],
   "source": [
    "with open('data/read.txt', encoding='latin-1') as file:\n",
    "    print(file.read())"
   ]
  },
  {
   "cell_type": "code",
   "execution_count": 25,
   "metadata": {},
   "outputs": [
    {
     "name": "stdout",
     "output_type": "stream",
     "text": [
      "b'Hello world!\\nHello world!\\nHello world!\\nHello world!\\nSample text!\\nHello world!\\nHello world!\\nHello world!\\nHello world!\\n\\xd0\\x9a\\xd0\\xb0\\xd0\\xba\\xd0\\xb0\\xd1\\x8f-\\xd1\\x82\\xd0\\xbe \\xd1\\x81\\xd1\\x82\\xd1\\x80\\xd0\\xbe\\xd0\\xba\\xd0\\xb0'\n",
      "Hello world!\n",
      "Hello world!\n",
      "Hello world!\n",
      "Hello world!\n",
      "Sample text!\n",
      "Hello world!\n",
      "Hello world!\n",
      "Hello world!\n",
      "Hello world!\n",
      "Какая-то строка\n",
      "Hello world!\n",
      "Hello world!\n",
      "Hello world!\n",
      "Hello world!\n",
      "Sample text!\n",
      "Hello world!\n",
      "Hello world!\n",
      "Hello world!\n",
      "Hello world!\n",
      "ÐÐ°ÐºÐ°Ñ-ÑÐ¾ ÑÑÑÐ¾ÐºÐ°\n"
     ]
    }
   ],
   "source": [
    "with open('data/read.txt', 'rb') as file:\n",
    "    data = file.read()\n",
    "    print(data)\n",
    "    print(data.decode('utf-8'))\n",
    "    print(data.decode('latin-1'))    "
   ]
  },
  {
   "cell_type": "code",
   "execution_count": 26,
   "metadata": {},
   "outputs": [],
   "source": [
    "with open('data/read.txt', 'wb') as file:\n",
    "    file.write(b'Another string \\n')"
   ]
  },
  {
   "cell_type": "code",
   "execution_count": 27,
   "metadata": {},
   "outputs": [],
   "source": [
    "with open('data/read.txt', 'ab') as file:\n",
    "    file.write(b'Hello world!\\n')\n",
    "    file.write(b'Sample text!\\n')"
   ]
  },
  {
   "cell_type": "code",
   "execution_count": 28,
   "metadata": {},
   "outputs": [
    {
     "ename": "UnsupportedOperation",
     "evalue": "not readable",
     "output_type": "error",
     "traceback": [
      "\u001b[0;31m---------------------------------------------------------------------------\u001b[0m",
      "\u001b[0;31mUnsupportedOperation\u001b[0m                      Traceback (most recent call last)",
      "\u001b[0;32m<ipython-input-28-b861b19d1d59>\u001b[0m in \u001b[0;36m<module>\u001b[0;34m\u001b[0m\n\u001b[1;32m      1\u001b[0m \u001b[0;32mwith\u001b[0m \u001b[0mopen\u001b[0m\u001b[0;34m(\u001b[0m\u001b[0;34m'data/read.txt'\u001b[0m\u001b[0;34m,\u001b[0m \u001b[0;34m'a'\u001b[0m\u001b[0;34m)\u001b[0m \u001b[0;32mas\u001b[0m \u001b[0mfile\u001b[0m\u001b[0;34m:\u001b[0m\u001b[0;34m\u001b[0m\u001b[0;34m\u001b[0m\u001b[0m\n\u001b[0;32m----> 2\u001b[0;31m     \u001b[0mprint\u001b[0m\u001b[0;34m(\u001b[0m\u001b[0mfile\u001b[0m\u001b[0;34m.\u001b[0m\u001b[0mread\u001b[0m\u001b[0;34m(\u001b[0m\u001b[0;34m)\u001b[0m\u001b[0;34m)\u001b[0m\u001b[0;34m\u001b[0m\u001b[0;34m\u001b[0m\u001b[0m\n\u001b[0m",
      "\u001b[0;31mUnsupportedOperation\u001b[0m: not readable"
     ]
    }
   ],
   "source": [
    "with open('data/read.txt', 'a') as file:\n",
    "    print(file.read())"
   ]
  },
  {
   "cell_type": "code",
   "execution_count": 34,
   "metadata": {},
   "outputs": [
    {
     "name": "stdout",
     "output_type": "stream",
     "text": [
      "Sample text!\n",
      "Hello world!\n",
      "Another text!\n"
     ]
    }
   ],
   "source": [
    "with open('data/write.txt', 'r+') as file:\n",
    "    print(file.read())\n",
    "    file.write('Another text!\\n')"
   ]
  },
  {
   "cell_type": "code",
   "execution_count": 36,
   "metadata": {},
   "outputs": [
    {
     "name": "stdout",
     "output_type": "stream",
     "text": [
      "b'Sample text!\\nHello world!\\nAnother text!\\n'\n"
     ]
    }
   ],
   "source": [
    "with open('data/write.txt', 'rb+') as file:\n",
    "    print(file.read())\n",
    "    file.write(b'Another text!\\n')"
   ]
  }
 ],
 "metadata": {
  "kernelspec": {
   "display_name": "Python 3",
   "language": "python",
   "name": "python3"
  },
  "language_info": {
   "codemirror_mode": {
    "name": "ipython",
    "version": 3
   },
   "file_extension": ".py",
   "mimetype": "text/x-python",
   "name": "python",
   "nbconvert_exporter": "python",
   "pygments_lexer": "ipython3",
   "version": "3.7.2"
  }
 },
 "nbformat": 4,
 "nbformat_minor": 2
}
