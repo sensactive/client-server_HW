{
 "cells": [
  {
   "cell_type": "code",
   "execution_count": 1,
   "metadata": {},
   "outputs": [
    {
     "name": "stdout",
     "output_type": "stream",
     "text": [
      "Some text\n"
     ]
    }
   ],
   "source": [
    "variable = 'Some text'\n",
    "\n",
    "def sample():\n",
    "    print(variable)\n",
    "    \n",
    "sample()"
   ]
  },
  {
   "cell_type": "code",
   "execution_count": 4,
   "metadata": {},
   "outputs": [],
   "source": [
    "def sample(text, num):\n",
    "    return text * num"
   ]
  },
  {
   "cell_type": "code",
   "execution_count": 5,
   "metadata": {},
   "outputs": [],
   "source": [
    "def logged(func):\n",
    "    def wrapper(text, num):\n",
    "        result = func(text, num)\n",
    "        print(f'log - {func.__name__}({text, num}) = {result}')\n",
    "        return result\n",
    "    return wrapper"
   ]
  },
  {
   "cell_type": "code",
   "execution_count": 6,
   "metadata": {},
   "outputs": [
    {
     "name": "stdout",
     "output_type": "stream",
     "text": [
      "log - sample(('text', 3)) = texttexttext\n"
     ]
    },
    {
     "data": {
      "text/plain": [
       "'texttexttext'"
      ]
     },
     "execution_count": 6,
     "metadata": {},
     "output_type": "execute_result"
    }
   ],
   "source": [
    "sample_clone = logged(sample)\n",
    "sample_clone('text', 3)"
   ]
  },
  {
   "cell_type": "code",
   "execution_count": 7,
   "metadata": {},
   "outputs": [
    {
     "name": "stdout",
     "output_type": "stream",
     "text": [
      "log - sample(('text', 3)) = texttexttext\n"
     ]
    },
    {
     "data": {
      "text/plain": [
       "'texttexttext'"
      ]
     },
     "execution_count": 7,
     "metadata": {},
     "output_type": "execute_result"
    }
   ],
   "source": [
    "@logged\n",
    "def sample(text, num):\n",
    "    return text * num\n",
    "\n",
    "sample('text', 3)"
   ]
  },
  {
   "cell_type": "code",
   "execution_count": 8,
   "metadata": {},
   "outputs": [],
   "source": [
    "def delimeted(func):\n",
    "    def wrapper(*args, **kwargs):\n",
    "        print('*'*50)\n",
    "        return func(*args, **kwargs)\n",
    "    return wrapper"
   ]
  },
  {
   "cell_type": "code",
   "execution_count": 9,
   "metadata": {},
   "outputs": [
    {
     "name": "stdout",
     "output_type": "stream",
     "text": [
      "**************************************************\n",
      "log - wrapper(('text', 3)) = texttexttext\n"
     ]
    },
    {
     "data": {
      "text/plain": [
       "'texttexttext'"
      ]
     },
     "execution_count": 9,
     "metadata": {},
     "output_type": "execute_result"
    }
   ],
   "source": [
    "@logged\n",
    "@delimeted\n",
    "def sample(text, num):\n",
    "    return text * num\n",
    "\n",
    "sample('text', 3)"
   ]
  },
  {
   "cell_type": "code",
   "execution_count": 12,
   "metadata": {},
   "outputs": [
    {
     "name": "stdout",
     "output_type": "stream",
     "text": [
      "**************************************************\n",
      "log - wrapper(('another text\\n', 4)) = another text\n",
      "another text\n",
      "another text\n",
      "another text\n",
      "\n"
     ]
    },
    {
     "data": {
      "text/plain": [
       "'another text\\nanother text\\nanother text\\nanother text\\n'"
      ]
     },
     "execution_count": 12,
     "metadata": {},
     "output_type": "execute_result"
    }
   ],
   "source": [
    "def sample(text, num):\n",
    "    return text * num\n",
    "\n",
    "sample_clone = logged(\n",
    "    delimeted(sample)\n",
    ")\n",
    "\n",
    "sample_clone('another text\\n', 4)"
   ]
  },
  {
   "cell_type": "code",
   "execution_count": 18,
   "metadata": {},
   "outputs": [],
   "source": [
    "def logged(log_format):\n",
    "    def decorator(func):\n",
    "        def wrapper(text, num):\n",
    "            result = func(text, num)\n",
    "            name = func.__name__\n",
    "            args = ','.join((text, str(num)))\n",
    "            print(log_format % {'name': name, 'args': args, 'result': result})\n",
    "            return result\n",
    "        return wrapper\n",
    "    return decorator"
   ]
  },
  {
   "cell_type": "code",
   "execution_count": 19,
   "metadata": {},
   "outputs": [
    {
     "name": "stdout",
     "output_type": "stream",
     "text": [
      "sample(sample,2) = samplesample\n"
     ]
    },
    {
     "data": {
      "text/plain": [
       "'samplesample'"
      ]
     },
     "execution_count": 19,
     "metadata": {},
     "output_type": "execute_result"
    }
   ],
   "source": [
    "def sample(text, num):\n",
    "    return text * num\n",
    "\n",
    "decorator = logged('%(name)s(%(args)s) = %(result)s')\n",
    "sample_clone = decorator(sample)\n",
    "sample_clone('sample', 2)"
   ]
  },
  {
   "cell_type": "code",
   "execution_count": 24,
   "metadata": {},
   "outputs": [
    {
     "name": "stdout",
     "output_type": "stream",
     "text": [
      "(sample,2) = samplesample\n"
     ]
    },
    {
     "data": {
      "text/plain": [
       "'samplesample'"
      ]
     },
     "execution_count": 24,
     "metadata": {},
     "output_type": "execute_result"
    }
   ],
   "source": [
    "@logged('(%(args)s) = %(result)s')\n",
    "def sample(text, num):\n",
    "    return text * num\n",
    "\n",
    "sample('sample', 2)"
   ]
  },
  {
   "cell_type": "code",
   "execution_count": 25,
   "metadata": {},
   "outputs": [
    {
     "data": {
      "text/plain": [
       "'wrapper'"
      ]
     },
     "execution_count": 25,
     "metadata": {},
     "output_type": "execute_result"
    }
   ],
   "source": [
    "@logged('(%(args)s) = %(result)s')\n",
    "def sample(text, num):\n",
    "    return text * num\n",
    "\n",
    "sample.__name__"
   ]
  },
  {
   "cell_type": "code",
   "execution_count": 26,
   "metadata": {},
   "outputs": [],
   "source": [
    "from functools import wraps\n",
    "\n",
    "\n",
    "def logged(log_format):\n",
    "    def decorator(func):\n",
    "        @wraps(func)\n",
    "        def wrapper(text, num):\n",
    "            result = func(text, num)\n",
    "            name = func.__name__\n",
    "            args = ','.join((text, str(num)))\n",
    "            print(log_format % {'name': name, 'args': args, 'result': result})\n",
    "            return result\n",
    "        return wrapper\n",
    "    return decorator"
   ]
  },
  {
   "cell_type": "code",
   "execution_count": 27,
   "metadata": {},
   "outputs": [
    {
     "data": {
      "text/plain": [
       "'sample'"
      ]
     },
     "execution_count": 27,
     "metadata": {},
     "output_type": "execute_result"
    }
   ],
   "source": [
    "@logged('(%(args)s) = %(result)s')\n",
    "def sample(text, num):\n",
    "    return text * num\n",
    "\n",
    "sample.__name__"
   ]
  }
 ],
 "metadata": {
  "kernelspec": {
   "display_name": "Python 3",
   "language": "python",
   "name": "python3"
  },
  "language_info": {
   "codemirror_mode": {
    "name": "ipython",
    "version": 3
   },
   "file_extension": ".py",
   "mimetype": "text/x-python",
   "name": "python",
   "nbconvert_exporter": "python",
   "pygments_lexer": "ipython3",
   "version": "3.7.2"
  }
 },
 "nbformat": 4,
 "nbformat_minor": 2
}
