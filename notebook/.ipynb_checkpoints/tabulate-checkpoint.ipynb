{
 "cells": [
  {
   "cell_type": "code",
   "execution_count": 5,
   "metadata": {},
   "outputs": [],
   "source": [
    "from tabulate import tabulate"
   ]
  },
  {
   "cell_type": "code",
   "execution_count": 12,
   "metadata": {},
   "outputs": [],
   "source": [
    "data = [\n",
    "    ['Python', 'inter', '1991'],\n",
    "    ['JAVA', 'comp', '1995'],\n",
    "    ['C', 'comp', '1972']\n",
    "]\n",
    "\n",
    "dict_data = [\n",
    "    {'name': 'Python', 'type': 'iter', 'year':1991},\n",
    "    {'name': 'JAVA', 'type': 'comp', 'year':1995},\n",
    "    {'name': 'C', 'type': 'comp', 'year':1972},\n",
    "]\n",
    "\n",
    "columns = ['name', 'type', 'year']"
   ]
  },
  {
   "cell_type": "code",
   "execution_count": 8,
   "metadata": {},
   "outputs": [
    {
     "name": "stdout",
     "output_type": "stream",
     "text": [
      "------  -----  ----\n",
      "Python  inter  1991\n",
      "JAVA    comp   1995\n",
      "C       comp   1972\n",
      "------  -----  ----\n"
     ]
    }
   ],
   "source": [
    "print(tabulate(data))"
   ]
  },
  {
   "cell_type": "code",
   "execution_count": 10,
   "metadata": {},
   "outputs": [
    {
     "name": "stdout",
     "output_type": "stream",
     "text": [
      "name    type      year\n",
      "------  ------  ------\n",
      "Python  inter     1991\n",
      "JAVA    comp      1995\n",
      "C       comp      1972\n"
     ]
    }
   ],
   "source": [
    "print(\n",
    "    tabulate(data, headers=columns)\n",
    ")"
   ]
  },
  {
   "cell_type": "code",
   "execution_count": 13,
   "metadata": {},
   "outputs": [
    {
     "name": "stdout",
     "output_type": "stream",
     "text": [
      "------  ----  ----\n",
      "Python  iter  1991\n",
      "JAVA    comp  1995\n",
      "C       comp  1972\n",
      "------  ----  ----\n"
     ]
    }
   ],
   "source": [
    "print(\n",
    "    tabulate(dict_data)\n",
    ")"
   ]
  },
  {
   "cell_type": "code",
   "execution_count": 15,
   "metadata": {},
   "outputs": [
    {
     "name": "stdout",
     "output_type": "stream",
     "text": [
      "name    type      year\n",
      "------  ------  ------\n",
      "Python  iter      1991\n",
      "JAVA    comp      1995\n",
      "C       comp      1972\n"
     ]
    }
   ],
   "source": [
    "print(\n",
    "    tabulate(dict_data, headers='keys')\n",
    ")"
   ]
  },
  {
   "cell_type": "code",
   "execution_count": 18,
   "metadata": {},
   "outputs": [
    {
     "name": "stdout",
     "output_type": "stream",
     "text": [
      "+--------+--------+--------+\n",
      "| name   | type   |   year |\n",
      "+========+========+========+\n",
      "| Python | iter   |   1991 |\n",
      "+--------+--------+--------+\n",
      "| JAVA   | comp   |   1995 |\n",
      "+--------+--------+--------+\n",
      "| C      | comp   |   1972 |\n",
      "+--------+--------+--------+\n"
     ]
    }
   ],
   "source": [
    "print(\n",
    "    tabulate(dict_data, headers='keys', tablefmt=\"grid\")\n",
    ")"
   ]
  },
  {
   "cell_type": "code",
   "execution_count": 19,
   "metadata": {},
   "outputs": [
    {
     "name": "stdout",
     "output_type": "stream",
     "text": [
      "<table>\n",
      "<thead>\n",
      "<tr><th>name  </th><th>type  </th><th style=\"text-align: right;\">  year</th></tr>\n",
      "</thead>\n",
      "<tbody>\n",
      "<tr><td>Python</td><td>iter  </td><td style=\"text-align: right;\">  1991</td></tr>\n",
      "<tr><td>JAVA  </td><td>comp  </td><td style=\"text-align: right;\">  1995</td></tr>\n",
      "<tr><td>C     </td><td>comp  </td><td style=\"text-align: right;\">  1972</td></tr>\n",
      "</tbody>\n",
      "</table>\n"
     ]
    }
   ],
   "source": [
    "print(\n",
    "    tabulate(dict_data, headers='keys', tablefmt=\"html\")\n",
    ")"
   ]
  }
 ],
 "metadata": {
  "kernelspec": {
   "display_name": "Python 3",
   "language": "python",
   "name": "python3"
  },
  "language_info": {
   "codemirror_mode": {
    "name": "ipython",
    "version": 3
   },
   "file_extension": ".py",
   "mimetype": "text/x-python",
   "name": "python",
   "nbconvert_exporter": "python",
   "pygments_lexer": "ipython3",
   "version": "3.6.8"
  }
 },
 "nbformat": 4,
 "nbformat_minor": 2
}
